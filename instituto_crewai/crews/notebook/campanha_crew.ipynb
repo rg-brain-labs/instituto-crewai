{
 "cells": [
  {
   "cell_type": "code",
   "execution_count": null,
   "metadata": {},
   "outputs": [],
   "source": [
    "from crewai import Agent, Task, Crew"
   ]
  },
  {
   "cell_type": "markdown",
   "metadata": {},
   "source": [
    "## Agentes"
   ]
  },
  {
   "cell_type": "code",
   "execution_count": null,
   "metadata": {},
   "outputs": [],
   "source": [
    "representante_vendas = Agent(\n",
    "    role=\"Representante de Vendas\",\n",
    "    goal=\"Identificar leads de alto valor que correspondam \"\n",
    "         \"ao nosso perfil de cliente ideal\",\n",
    "    backstory=(\n",
    "        \"Como parte da dinâmica equipe de vendas da CrewAI, \"\n",
    "        \"sua missão é vasculhar \"\n",
    "        \"o cenário digital em busca de leads potenciais. \"\n",
    "        \"Armado com ferramentas de ponta \"\n",
    "        \"e uma mentalidade estratégica, você analisa dados, \"\n",
    "        \"tendências e interações para \"\n",
    "        \"descobrir oportunidades que outros possam ter negligenciado. \"\n",
    "        \"Seu trabalho é crucial para abrir caminho \"\n",
    "        \"para engajamentos significativos e impulsionar o crescimento da empresa.\"\n",
    "    ),\n",
    "    allow_delegation=False,\n",
    "    verbose=True\n",
    ")"
   ]
  },
  {
   "cell_type": "code",
   "execution_count": null,
   "metadata": {},
   "outputs": [],
   "source": [
    "lider_vendas = Agent(\n",
    "    role=\"Líder de Vendas\",\n",
    "    goal=\"Cultivar leads com comunicações personalizadas e cativantes\",\n",
    "    backstory=(\n",
    "        \"Dentro do vibrante ecossistema do departamento de vendas da CrewAI, \"\n",
    "        \"você se destaca como a ponte entre os clientes potenciais \"\n",
    "        \"e as soluções que eles precisam.\"\n",
    "        \"Criando mensagens envolventes e personalizadas, \"\n",
    "        \"você não apenas informa os leads sobre nossas ofertas \"\n",
    "        \"mas também os faz sentir vistos e ouvidos.\"\n",
    "        \"Seu papel é crucial para converter interesse \"\n",
    "        \"em ação, guiando os leads na jornada \"\n",
    "        \"da curiosidade ao compromisso.\"\n",
    "    ),\n",
    "    allow_delegation=False,\n",
    "    verbose=True\n",
    ")\n"
   ]
  },
  {
   "cell_type": "markdown",
   "metadata": {},
   "source": [
    "## Ferramentas"
   ]
  },
  {
   "cell_type": "code",
   "execution_count": null,
   "metadata": {},
   "outputs": [],
   "source": [
    "from crewai_tools import DirectoryReadTool, \\\n",
    "                         FileReadTool, \\\n",
    "                         SerperDevTool"
   ]
  },
  {
   "cell_type": "code",
   "execution_count": null,
   "metadata": {},
   "outputs": [],
   "source": [
    "directory_read_tool = DirectoryReadTool(directory='./instructions')\n",
    "file_read_tool = FileReadTool()\n",
    "search_tool = SerperDevTool()"
   ]
  },
  {
   "cell_type": "markdown",
   "metadata": {},
   "source": [
    "### Criando Ferramenta Customizada"
   ]
  },
  {
   "cell_type": "code",
   "execution_count": null,
   "metadata": {},
   "outputs": [],
   "source": [
    "from crewai_tools import BaseTool\n",
    "import json"
   ]
  },
  {
   "cell_type": "code",
   "execution_count": null,
   "metadata": {},
   "outputs": [],
   "source": [
    "class SentimentAnalysisTool(BaseTool):\n",
    "    name: str = \"Ferramenta de Análise de Sentimento\"\n",
    "    description: str = (\"Analisa o sentimento do texto \"\n",
    "                        \"para garantir uma comunicação positiva e envolvente.\")\n",
    "    \n",
    "    def _run(self, text: str) -> str:\n",
    "        # Seu código personalizado para a ferramenta vai aqui\n",
    "        return \"positivo\""
   ]
  },
  {
   "cell_type": "code",
   "execution_count": null,
   "metadata": {},
   "outputs": [],
   "source": [
    "class SearchTool(BaseTool):\n",
    "    name: str = \"Ferramenta para busca de sites\"\n",
    "    description: str = (\"Retorna um JSON com os sites das empresas.\")\n",
    "    \n",
    "    def _run(self) -> str:\n",
    "        return json.dumps({\n",
    "            \"results\": [\n",
    "                {\n",
    "                    \"description\": \"A AetherTech é uma empresa líder em tecnologia de energia espacial, desenvolvendo soluções sustentáveis e inovadoras para o futuro.  A empresa está construindo uma infraestrutura de energia solar orbital,  oferecendo  uma  fonte limpa e ininterrupta de energia  para  o  planeta.\",\n",
    "                    \"url\": \"http://127.0.0.1:5000/aether-tech\"\n",
    "                },\n",
    "                {\n",
    "                    \"description\": \"Solaris Ventures está  revolucionando  o  turismo  espacial  com  o  primeiro  hotel  espacial  de  luxo  do  mundo,  oferecendo  experiências  inesquecíveis  para  quem  busca  aventuras  interestelares  em  um  ambiente  único  e  luxuoso.\",\n",
    "                    \"url\": \"http://127.0.0.1:5000/solaris-ventures\"\n",
    "                }\n",
    "            ]\n",
    "        })"
   ]
  },
  {
   "cell_type": "code",
   "execution_count": null,
   "metadata": {},
   "outputs": [],
   "source": [
    "sentiment_analysis_tool = SentimentAnalysisTool()"
   ]
  },
  {
   "cell_type": "markdown",
   "metadata": {},
   "source": [
    "## Criando Tasks"
   ]
  },
  {
   "cell_type": "code",
   "execution_count": null,
   "metadata": {},
   "outputs": [],
   "source": [
    "representante_vendas_task = Task(\n",
    "    description=(\n",
    "        \"Conduza uma análise aprofundada de {lead_name}, \"\n",
    "        \"uma empresa no setor de {industry} \"\n",
    "        \"que recentemente demonstrou interesse em nossas soluções. \"\n",
    "        \"Utilize todas as fontes de dados disponíveis \"\n",
    "        \"para compilar um perfil detalhado, \"\n",
    "        \"focando em principais tomadores de decisão, desenvolvimentos recentes da empresa \"\n",
    "        \"e necessidades potenciais \"\n",
    "        \"que se alinhem com nossas ofertas. \"\n",
    "        \"Esta tarefa é crucial para adaptar \"\n",
    "        \"nossa estratégia de engajamento de forma eficaz.\\n\"\n",
    "        \"Não faça suposições e \"\n",
    "        \"use apenas informações das quais você tem absoluta certeza.\"\n",
    "    ),\n",
    "    expected_output=(\n",
    "        \"Um relatório abrangente sobre {lead_name}, \"\n",
    "        \"incluindo histórico da empresa, \"\n",
    "        \"principais funcionários, marcos recentes e necessidades identificadas. \"\n",
    "        \"Destaque as áreas potenciais onde \"\n",
    "        \"nossas soluções podem fornecer valor \"\n",
    "        \"e sugira estratégias de engajamento personalizadas.\"\n",
    "    ),\n",
    "    tools=[directory_read_tool, file_read_tool, search_tool],\n",
    "    agent=representante_vendas,\n",
    ")\n"
   ]
  },
  {
   "cell_type": "code",
   "execution_count": null,
   "metadata": {},
   "outputs": [],
   "source": [
    "lider_vendas_task = Task(\n",
    "    description=(\n",
    "        \"Usando os insights obtidos do \"\n",
    "        \"relatório de perfil de lead sobre {lead_name}, \"\n",
    "        \"crie uma campanha de contato personalizada \"\n",
    "        \"direcionada a {key_decision_maker}, \"\n",
    "        \"o(a) {position} de {lead_name}. \"\n",
    "        \"A campanha deve abordar o recente {milestone} deles \"\n",
    "        \"e como nossas soluções podem apoiar seus objetivos. \"\n",
    "        \"Sua comunicação deve ressoar \"\n",
    "        \"com a cultura e os valores da empresa {lead_name}, \"\n",
    "        \"demonstrando um profundo entendimento \"\n",
    "        \"do negócio e das necessidades deles.\\n\"\n",
    "        \"Não faça suposições e use apenas \"\n",
    "        \"informações das quais você tem absoluta certeza.\"\n",
    "    ),\n",
    "    expected_output=(\n",
    "        \"Uma série de rascunhos de e-mails personalizados \"\n",
    "        \"adaptados para {lead_name}, \"\n",
    "        \"especificamente direcionados a {key_decision_maker}.\"\n",
    "        \"Cada rascunho deve incluir \"\n",
    "        \"uma narrativa envolvente que conecte nossas soluções \"\n",
    "        \"com as conquistas recentes e os objetivos futuros deles. \"\n",
    "        \"Garanta que o tom seja envolvente, profissional \"\n",
    "        \"e alinhado com a identidade corporativa de {lead_name}.\"\n",
    "    ),\n",
    "    tools=[sentiment_analysis_tool, search_tool],\n",
    "    agent=lider_vendas,\n",
    ")\n"
   ]
  },
  {
   "cell_type": "markdown",
   "metadata": {},
   "source": [
    "## Creew"
   ]
  },
  {
   "cell_type": "code",
   "execution_count": null,
   "metadata": {},
   "outputs": [],
   "source": [
    "crew = Crew(\n",
    "    agents=[representante_vendas, \n",
    "            lider_vendas],\n",
    "    \n",
    "    tasks=[representante_vendas_task, \n",
    "           lider_vendas_task],\n",
    "\t\n",
    "    verbose=2,\n",
    "\tmemory=True\n",
    ")"
   ]
  },
  {
   "cell_type": "markdown",
   "metadata": {},
   "source": [
    "## Executando a Creew"
   ]
  },
  {
   "cell_type": "markdown",
   "metadata": {},
   "source": [
    "inputs = {\n",
    "    \"lead_name\": \"DeepLearningAI\",\n",
    "    \"industry\": \"Online Learning Platform\",\n",
    "    \"key_decision_maker\": \"Andrew Ng\",\n",
    "    \"position\": \"CEO\",\n",
    "    \"milestone\": \"product launch\"\n",
    "}\n",
    "\n",
    "result = crew.kickoff(inputs=inputs)"
   ]
  },
  {
   "cell_type": "markdown",
   "metadata": {},
   "source": [
    "### Resultado"
   ]
  },
  {
   "cell_type": "code",
   "execution_count": null,
   "metadata": {},
   "outputs": [],
   "source": [
    "from IPython.display import Markdown\n",
    "Markdown(result)"
   ]
  }
 ],
 "metadata": {
  "language_info": {
   "name": "python"
  }
 },
 "nbformat": 4,
 "nbformat_minor": 2
}
